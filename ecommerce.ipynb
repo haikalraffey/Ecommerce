{
 "cells": [
  {
   "cell_type": "code",
   "execution_count": 2,
   "metadata": {},
   "outputs": [],
   "source": [
    "from ecommerce import Membership"
   ]
  },
  {
   "cell_type": "code",
   "execution_count": 3,
   "metadata": {},
   "outputs": [],
   "source": [
    "Raffey = Membership(\"Raffey\", 3000000, 15000000)"
   ]
  },
  {
   "cell_type": "code",
   "execution_count": 7,
   "metadata": {},
   "outputs": [
    {
     "name": "stdout",
     "output_type": "stream",
     "text": [
      "E-commerce Membership Benefit\n",
      "\n",
      "Membership    Discount    Benefits\n",
      "------------  ----------  -------------------------------------------------------\n",
      "Platinum      15%         Gold and Silver Membership Benefit + Cashback up to 30%\n",
      "Gold          10%         Silver Membership Benefit + Voucher Online Ride\n",
      "Silver        8%          Voucher for Meals\n"
     ]
    }
   ],
   "source": [
    "Raffey.show_benefit()"
   ]
  },
  {
   "cell_type": "code",
   "execution_count": 8,
   "metadata": {},
   "outputs": [
    {
     "name": "stdout",
     "output_type": "stream",
     "text": [
      "E-commerce Membership Requirements\n",
      "\n",
      "Membership      Monthly Expense (Juta)    Monthly Income (Juta)\n",
      "------------  ------------------------  -----------------------\n",
      "Platinum                             8                       15\n",
      "Gold                                 6                       10\n",
      "Silver                               5                        7\n"
     ]
    }
   ],
   "source": [
    "Raffey.show_requirements()"
   ]
  },
  {
   "cell_type": "code",
   "execution_count": 4,
   "metadata": {},
   "outputs": [
    {
     "name": "stdout",
     "output_type": "stream",
     "text": [
      "Raffey will be a Platinum member.\n"
     ]
    }
   ],
   "source": [
    "Raffey.predict()"
   ]
  },
  {
   "cell_type": "code",
   "execution_count": 6,
   "metadata": {},
   "outputs": [
    {
     "name": "stdout",
     "output_type": "stream",
     "text": [
      "You are Platinum membership. Your total price is 4717500.0.\n"
     ]
    }
   ],
   "source": [
    "Raffey.calculate_price([200000, 5200000, 150000])"
   ]
  }
 ],
 "metadata": {
  "kernelspec": {
   "display_name": "Python 3",
   "language": "python",
   "name": "python3"
  },
  "language_info": {
   "codemirror_mode": {
    "name": "ipython",
    "version": 3
   },
   "file_extension": ".py",
   "mimetype": "text/x-python",
   "name": "python",
   "nbconvert_exporter": "python",
   "pygments_lexer": "ipython3",
   "version": "3.8.6"
  }
 },
 "nbformat": 4,
 "nbformat_minor": 2
}
